{
 "cells": [
  {
   "cell_type": "markdown",
   "id": "b3b41fa1",
   "metadata": {},
   "source": [
    "#### Download opencv-python (Open Source Computer Vision) library"
   ]
  },
  {
   "cell_type": "code",
   "execution_count": null,
   "id": "1bbf4b6b",
   "metadata": {},
   "outputs": [],
   "source": [
    "!pip install opencv-python"
   ]
  },
  {
   "cell_type": "markdown",
   "id": "5e152d05",
   "metadata": {},
   "source": [
    "#### import das bibliotecas"
   ]
  },
  {
   "cell_type": "code",
   "execution_count": null,
   "id": "f1d13fbc",
   "metadata": {},
   "outputs": [],
   "source": [
    "import cv2, random\n",
    "import numpy as np\n",
    "import matplotlib.pyplot as plt"
   ]
  },
  {
   "cell_type": "markdown",
   "id": "d408709f",
   "metadata": {},
   "source": [
    "#### Carregando a imagem"
   ]
  },
  {
   "cell_type": "code",
   "execution_count": null,
   "id": "d624d9f9",
   "metadata": {},
   "outputs": [],
   "source": [
    "IMG_PATH = \"./caminho_floresta.jpg\"\n",
    "\n",
    "img = cv2.imread(IMG_PATH, 1) # 1 - IMGREAD_COLOR\n",
    "img = cv2.cvtColor(img, cv2.COLOR_BGR2RGB)\n",
    "\n",
    "plt.imshow(img)"
   ]
  },
  {
   "cell_type": "markdown",
   "id": "854872b3",
   "metadata": {},
   "source": [
    "#### Exibindo as dimensões da imagem"
   ]
  },
  {
   "cell_type": "code",
   "execution_count": null,
   "id": "62ef210d",
   "metadata": {},
   "outputs": [],
   "source": [
    "display(img.shape) # Output(altura, largura, Channel)"
   ]
  },
  {
   "cell_type": "markdown",
   "id": "89968533",
   "metadata": {},
   "source": [
    "#### Cada píxel da imagem é um vetor de 3 valores (RGB)"
   ]
  },
  {
   "cell_type": "code",
   "execution_count": null,
   "id": "357b2743",
   "metadata": {},
   "outputs": [],
   "source": [
    "display(img[0,0]) # Linha 0 coluna 0"
   ]
  },
  {
   "cell_type": "markdown",
   "id": "8297f411",
   "metadata": {},
   "source": [
    "#### Conversão da imagem para grayscale"
   ]
  },
  {
   "cell_type": "code",
   "execution_count": null,
   "id": "83f69a17",
   "metadata": {},
   "outputs": [],
   "source": [
    "def convert_to_grayscale(image):\n",
    "    \n",
    "    rows, columns = img.shape[0:2]\n",
    "    \n",
    "    for i in range(0, rows):\n",
    "        #print(\"\\nlinha %d\" % (i))\n",
    "        for j in range(0, columns):\n",
    "            image[i,j] = sum(image[i,j]) * 0.33\n",
    "            \n",
    "            \n",
    "    return image"
   ]
  },
  {
   "cell_type": "code",
   "execution_count": null,
   "id": "a8d0c046",
   "metadata": {},
   "outputs": [],
   "source": [
    "img_grayscale = convert_to_grayscale(img)\n",
    "plt.imshow(img_grayscale)"
   ]
  },
  {
   "cell_type": "markdown",
   "id": "96e07b4e",
   "metadata": {},
   "source": [
    "#### Binarização da imagem"
   ]
  },
  {
   "cell_type": "code",
   "execution_count": null,
   "id": "065f546d",
   "metadata": {},
   "outputs": [],
   "source": [
    "def convert_to_binary(image):\n",
    "    \n",
    "    rows, columns = image.shape[0:2]\n",
    "    \n",
    "    for i in range(0,rows):\n",
    "        #print(\"\\nlinha %d\" % (i))\n",
    "        for j in range(0,columns):\n",
    "            if np.mean(image[i,j]) > (255/2):\n",
    "                image[i,j] = [255,255,255]\n",
    "            else:\n",
    "                image[i,j] = [0,0,0]\n",
    "    \n",
    "    return image"
   ]
  },
  {
   "cell_type": "code",
   "execution_count": null,
   "id": "528518ee",
   "metadata": {},
   "outputs": [],
   "source": [
    "binary_img = convert_to_binary(img_grayscale)\n",
    "plt.imshow(binary_img)"
   ]
  },
  {
   "cell_type": "code",
   "execution_count": null,
   "id": "29d984ae",
   "metadata": {},
   "outputs": [],
   "source": []
  }
 ],
 "metadata": {
  "kernelspec": {
   "display_name": "Python 3 (ipykernel)",
   "language": "python",
   "name": "python3"
  },
  "language_info": {
   "codemirror_mode": {
    "name": "ipython",
    "version": 3
   },
   "file_extension": ".py",
   "mimetype": "text/x-python",
   "name": "python",
   "nbconvert_exporter": "python",
   "pygments_lexer": "ipython3",
   "version": "3.11.5"
  }
 },
 "nbformat": 4,
 "nbformat_minor": 5
}
